{
 "cells": [
  {
   "cell_type": "code",
   "execution_count": 1,
   "id": "0224b7cb-0867-49fd-8aff-6101f4cbc590",
   "metadata": {},
   "outputs": [],
   "source": [
    "import cudf\n",
    "import pandas as pd\n",
    "import os"
   ]
  },
  {
   "cell_type": "code",
   "execution_count": 2,
   "id": "272d1131-3cef-4f4b-9258-b8a43243a691",
   "metadata": {},
   "outputs": [
    {
     "name": "stdout",
     "output_type": "stream",
     "text": [
      "Mon Feb 24 02:39:08 2025       \n",
      "+-----------------------------------------------------------------------------------------+\n",
      "| NVIDIA-SMI 550.120                Driver Version: 550.120        CUDA Version: 12.4     |\n",
      "|-----------------------------------------+------------------------+----------------------+\n",
      "| GPU  Name                 Persistence-M | Bus-Id          Disp.A | Volatile Uncorr. ECC |\n",
      "| Fan  Temp   Perf          Pwr:Usage/Cap |           Memory-Usage | GPU-Util  Compute M. |\n",
      "|                                         |                        |               MIG M. |\n",
      "|=========================================+========================+======================|\n",
      "|   0  NVIDIA GeForce RTX 4060 ...    Off |   00000000:01:00.0 Off |                  N/A |\n",
      "| N/A   40C    P8              2W /   40W |      12MiB /   8188MiB |      0%      Default |\n",
      "|                                         |                        |                  N/A |\n",
      "+-----------------------------------------+------------------------+----------------------+\n",
      "                                                                                         \n",
      "+-----------------------------------------------------------------------------------------+\n",
      "| Processes:                                                                              |\n",
      "|  GPU   GI   CI        PID   Type   Process name                              GPU Memory |\n",
      "|        ID   ID                                                               Usage      |\n",
      "|=========================================================================================|\n",
      "|    0   N/A  N/A      2509      G   /usr/lib/xorg/Xorg                              4MiB |\n",
      "+-----------------------------------------------------------------------------------------+\n"
     ]
    }
   ],
   "source": [
    "!nvidia-smi"
   ]
  },
  {
   "cell_type": "code",
   "execution_count": 2,
   "id": "a71063d0-9b09-4706-bc8d-e835a2036041",
   "metadata": {},
   "outputs": [],
   "source": [
    "path = \"/home/suhani/Downloads/archive/yellow_tripdata_2016-03.csv\""
   ]
  },
  {
   "cell_type": "code",
   "execution_count": 4,
   "id": "43d533fa-b8d9-4dc2-83b0-e3254623ad4b",
   "metadata": {},
   "outputs": [
    {
     "name": "stdout",
     "output_type": "stream",
     "text": [
      "Architecture:             x86_64\n",
      "  CPU op-mode(s):         32-bit, 64-bit\n",
      "  Address sizes:          48 bits physical, 48 bits virtual\n",
      "  Byte Order:             Little Endian\n",
      "CPU(s):                   16\n",
      "  On-line CPU(s) list:    0-15\n",
      "Vendor ID:                AuthenticAMD\n",
      "  Model name:             AMD Ryzen 7 7840HS w/ Radeon 780M Graphics\n",
      "    CPU family:           25\n",
      "    Model:                116\n",
      "    Thread(s) per core:   2\n",
      "    Core(s) per socket:   8\n",
      "    Socket(s):            1\n",
      "    Stepping:             1\n",
      "    CPU(s) scaling MHz:   22%\n",
      "    CPU max MHz:          5137.0000\n",
      "    CPU min MHz:          400.0000\n",
      "    BogoMIPS:             7586.46\n",
      "    Flags:                fpu vme de pse tsc msr pae mce cx8 apic sep mtrr pge m\n",
      "                          ca cmov pat pse36 clflush mmx fxsr sse sse2 ht syscall\n",
      "                           nx mmxext fxsr_opt pdpe1gb rdtscp lm constant_tsc rep\n",
      "                          _good amd_lbr_v2 nopl nonstop_tsc cpuid extd_apicid ap\n",
      "                          erfmperf rapl pni pclmulqdq monitor ssse3 fma cx16 sse\n",
      "                          4_1 sse4_2 x2apic movbe popcnt aes xsave avx f16c rdra\n",
      "                          nd lahf_lm cmp_legacy svm extapic cr8_legacy abm sse4a\n",
      "                           misalignsse 3dnowprefetch osvw ibs skinit wdt tce top\n",
      "                          oext perfctr_core perfctr_nb bpext perfctr_llc mwaitx \n",
      "                          cpb cat_l3 cdp_l3 hw_pstate ssbd mba perfmon_v2 ibrs i\n",
      "                          bpb stibp ibrs_enhanced vmmcall fsgsbase bmi1 avx2 sme\n",
      "                          p bmi2 erms invpcid cqm rdt_a avx512f avx512dq rdseed \n",
      "                          adx smap avx512ifma clflushopt clwb avx512cd sha_ni av\n",
      "                          x512bw avx512vl xsaveopt xsavec xgetbv1 xsaves cqm_llc\n",
      "                           cqm_occup_llc cqm_mbm_total cqm_mbm_local user_shstk \n",
      "                          avx512_bf16 clzero irperf xsaveerptr rdpru wbnoinvd cp\n",
      "                          pc arat npt lbrv svm_lock nrip_save tsc_scale vmcb_cle\n",
      "                          an flushbyasid decodeassists pausefilter pfthreshold v\n",
      "                          _vmsave_vmload vgif x2avic v_spec_ctrl vnmi avx512vbmi\n",
      "                           umip pku ospke avx512_vbmi2 gfni vaes vpclmulqdq avx5\n",
      "                          12_vnni avx512_bitalg avx512_vpopcntdq rdpid overflow_\n",
      "                          recov succor smca fsrm flush_l1d\n",
      "Virtualization features:  \n",
      "  Virtualization:         AMD-V\n",
      "Caches (sum of all):      \n",
      "  L1d:                    256 KiB (8 instances)\n",
      "  L1i:                    256 KiB (8 instances)\n",
      "  L2:                     8 MiB (8 instances)\n",
      "  L3:                     16 MiB (1 instance)\n",
      "NUMA:                     \n",
      "  NUMA node(s):           1\n",
      "  NUMA node0 CPU(s):      0-15\n",
      "Vulnerabilities:          \n",
      "  Gather data sampling:   Not affected\n",
      "  Itlb multihit:          Not affected\n",
      "  L1tf:                   Not affected\n",
      "  Mds:                    Not affected\n",
      "  Meltdown:               Not affected\n",
      "  Mmio stale data:        Not affected\n",
      "  Reg file data sampling: Not affected\n",
      "  Retbleed:               Not affected\n",
      "  Spec rstack overflow:   Vulnerable: Safe RET, no microcode\n",
      "  Spec store bypass:      Mitigation; Speculative Store Bypass disabled via prct\n",
      "                          l\n",
      "  Spectre v1:             Mitigation; usercopy/swapgs barriers and __user pointe\n",
      "                          r sanitization\n",
      "  Spectre v2:             Mitigation; Enhanced / Automatic IBRS; IBPB conditiona\n",
      "                          l; STIBP always-on; RSB filling; PBRSB-eIBRS Not affec\n",
      "                          ted; BHI Not affected\n",
      "  Srbds:                  Not affected\n",
      "  Tsx async abort:        Not affected\n"
     ]
    }
   ],
   "source": [
    "!lscpu"
   ]
  },
  {
   "cell_type": "code",
   "execution_count": 5,
   "id": "d8bb705f-43ca-4d14-b6ca-66e1ca7806ea",
   "metadata": {},
   "outputs": [],
   "source": [
    "import time"
   ]
  },
  {
   "cell_type": "code",
   "execution_count": 6,
   "id": "fd038d11-66cd-4460-ac16-e219f76f0838",
   "metadata": {},
   "outputs": [],
   "source": [
    "pd_load_times = []\n",
    "\n",
    "for _ in range(5):\n",
    "    start = time.time()\n",
    "    df_pd = pd.read_csv(path)\n",
    "    pd_load_times.append(time.time()-start)\n",
    "\n",
    "avg_pd_load_time = sum(pd_load_times)/len(pd_load_times)"
   ]
  },
  {
   "cell_type": "code",
   "execution_count": 7,
   "id": "526f3e1f-679d-4b30-8583-d25f7231f3d2",
   "metadata": {},
   "outputs": [],
   "source": [
    "cudf_load_times = []\n",
    "\n",
    "for _ in range(5):\n",
    "    start = time.time()\n",
    "    df_cudf = cudf.read_csv(path)\n",
    "    cudf_load_times.append(time.time()-start)\n",
    "    \n",
    "avg_cudf_load_time = sum(cudf_load_times)/len(cudf_load_times)"
   ]
  },
  {
   "cell_type": "code",
   "execution_count": 8,
   "id": "35d7149b-f9fa-4e79-987b-613cec9c8396",
   "metadata": {},
   "outputs": [
    {
     "name": "stdout",
     "output_type": "stream",
     "text": [
      "Total Memory: 8.00 GB\n",
      "Free Memory: 5.58 GB\n",
      "Used Memory: 2.41 GB\n"
     ]
    }
   ],
   "source": [
    "from pynvml import nvmlInit, nvmlDeviceGetHandleByIndex, nvmlDeviceGetMemoryInfo\n",
    "\n",
    "nvmlInit()\n",
    "handle = nvmlDeviceGetHandleByIndex(0)\n",
    "info = nvmlDeviceGetMemoryInfo(handle)\n",
    "\n",
    "print(f\"Total Memory: {info.total / 1024**3:.2f} GB\")\n",
    "print(f\"Free Memory: {info.free / 1024**3:.2f} GB\")\n",
    "print(f\"Used Memory: {info.used / 1024**3:.2f} GB\")\n"
   ]
  },
  {
   "cell_type": "code",
   "execution_count": 9,
   "id": "bd9c64d4-3b1a-4c37-964c-f94b487f8ac1",
   "metadata": {},
   "outputs": [
    {
     "name": "stdout",
     "output_type": "stream",
     "text": [
      "Average Pandas load time: 15.13s\n",
      "Average cuDF load time: 1.12s\n"
     ]
    }
   ],
   "source": [
    "print(f\"Average Pandas load time: {avg_pd_load_time:.2f}s\")\n",
    "print(f\"Average cuDF load time: {avg_cudf_load_time:.2f}s\")"
   ]
  },
  {
   "cell_type": "code",
   "execution_count": 10,
   "id": "497430d4-f019-4e46-acc0-87ae44dc8c51",
   "metadata": {},
   "outputs": [],
   "source": [
    "pd_filter_times = []\n",
    "\n",
    "for _ in range(5):\n",
    "    start = time.time()\n",
    "    filt = df_pd[df_pd['passenger_count'] > 2] \n",
    "    pd_filter_times.append(time.time()-start)"
   ]
  },
  {
   "cell_type": "code",
   "execution_count": 24,
   "id": "3317de76-da5d-424f-a712-2c3392d1f3a9",
   "metadata": {},
   "outputs": [],
   "source": [
    "avg_pd_filter_time = sum(pd_filter_times)/len(pd_filter_times)"
   ]
  },
  {
   "cell_type": "code",
   "execution_count": 12,
   "id": "953367f9-8b53-42e0-8db1-c8d4742e0476",
   "metadata": {},
   "outputs": [],
   "source": [
    "cudf_filter_times = []\n",
    "\n",
    "for _ in range(5):\n",
    "    start = time.time()\n",
    "    filt = df_cudf[df_cudf['passenger_count'] > 2] \n",
    "    cudf_filter_times.append(time.time()-start)"
   ]
  },
  {
   "cell_type": "code",
   "execution_count": 25,
   "id": "09e7b2f7-eb46-4f6a-b1da-15cafd015c90",
   "metadata": {},
   "outputs": [],
   "source": [
    "avg_cudf_filter_time = sum(cudf_filter_times)/len(cudf_filter_times)"
   ]
  },
  {
   "cell_type": "code",
   "execution_count": 14,
   "id": "f6f30e0c-ac24-45b9-8a59-d58bdabb04f5",
   "metadata": {},
   "outputs": [
    {
     "name": "stdout",
     "output_type": "stream",
     "text": [
      "Index(['VendorID', 'tpep_pickup_datetime', 'tpep_dropoff_datetime',\n",
      "       'passenger_count', 'trip_distance', 'pickup_longitude',\n",
      "       'pickup_latitude', 'RatecodeID', 'store_and_fwd_flag',\n",
      "       'dropoff_longitude', 'dropoff_latitude', 'payment_type', 'fare_amount',\n",
      "       'extra', 'mta_tax', 'tip_amount', 'tolls_amount',\n",
      "       'improvement_surcharge', 'total_amount'],\n",
      "      dtype='object')\n"
     ]
    }
   ],
   "source": [
    "df_pd_subset = df_pd.head(1000)\n",
    "df_cudf_subset = df_cudf.head(1000)\n",
    "print(df_pd.columns)"
   ]
  },
  {
   "cell_type": "code",
   "execution_count": 15,
   "id": "bb0ac1b7-ead7-4aa8-a982-246c84f0b4ac",
   "metadata": {},
   "outputs": [],
   "source": [
    "pd_merge_times = []\n",
    "\n",
    "for _ in range(5):\n",
    "    start = time.time()\n",
    "    mrg = pd.merge(df_pd_subset,df_pd_subset,on='VendorID')\n",
    "    pd_merge_times.append(time.time()-start)\n",
    "\n",
    "avg_pd_merge_time = sum(pd_merge_times)/len(pd_merge_times)"
   ]
  },
  {
   "cell_type": "code",
   "execution_count": 16,
   "id": "1dad861c-194a-41d1-9e3c-2fb8053c4b82",
   "metadata": {},
   "outputs": [],
   "source": [
    "cudf_merge_times = []\n",
    "\n",
    "for _ in range(5):\n",
    "    start = time.time()\n",
    "    mrg = cudf.merge(df_cudf_subset,df_cudf_subset,on='VendorID')\n",
    "    cudf_merge_times.append(time.time()-start)\n",
    "\n",
    "avg_cudf_merge_time = sum(cudf_merge_times)/len(cudf_merge_times)"
   ]
  },
  {
   "cell_type": "code",
   "execution_count": 17,
   "id": "b6198c3b-a138-4951-b7ae-2d31750ca467",
   "metadata": {},
   "outputs": [
    {
     "name": "stdout",
     "output_type": "stream",
     "text": [
      "0.13312773704528807\n",
      "0.01996917724609375\n"
     ]
    }
   ],
   "source": [
    "print(avg_pd_merge_time)\n",
    "print(avg_cudf_merge_time)"
   ]
  },
  {
   "cell_type": "code",
   "execution_count": 18,
   "id": "e850f598-66e7-464b-b799-d211eb60f60e",
   "metadata": {},
   "outputs": [],
   "source": [
    "pd_group_times = []\n",
    "\n",
    "for _ in range(5):\n",
    "    start = time.time()\n",
    "    grouped_pd = df_pd.groupby('passenger_count')['fare_amount'].mean()\n",
    "    pd_group_times.append(time.time()-start)\n",
    "\n",
    "avg_pd_group_time = sum(pd_group_times)/len(pd_group_times)"
   ]
  },
  {
   "cell_type": "code",
   "execution_count": 19,
   "id": "02eac89a-9651-46a7-8364-0a1b7214b45e",
   "metadata": {},
   "outputs": [],
   "source": [
    "cudf_group_times = []\n",
    "\n",
    "for _ in range(5):\n",
    "    start = time.time()\n",
    "    grouped_cudf = df_cudf.groupby('passenger_count')['fare_amount'].mean()\n",
    "    cudf_group_times.append(time.time()-start)\n",
    "\n",
    "avg_cudf_group_time = sum(cudf_group_times)/len(cudf_group_times)"
   ]
  },
  {
   "cell_type": "code",
   "execution_count": 20,
   "id": "0689e71e-c7b1-4395-828a-b15e0a68b8a5",
   "metadata": {},
   "outputs": [
    {
     "name": "stdout",
     "output_type": "stream",
     "text": [
      "0.11287260055541992\n",
      "0.02339310646057129\n"
     ]
    }
   ],
   "source": [
    "print(avg_pd_group_time)\n",
    "print(avg_cudf_group_time)"
   ]
  },
  {
   "cell_type": "code",
   "execution_count": 37,
   "id": "943fd06e-46ab-49a5-b1fa-b8746c620e24",
   "metadata": {},
   "outputs": [
    {
     "data": {
      "image/png": "[encoded data removed]",
      "text/plain": [
       "<Figure size 1200x1000 with 4 Axes>"
      ]
     },
     "metadata": {},
     "output_type": "display_data"
    }
   ],
   "source": [
    "import matplotlib.pyplot as plt\n",
    "\n",
    "operations = ['Load', 'Filter', 'GroupBy', 'Merge']\n",
    "pandas_times = [avg_pd_load_time, avg_pd_filter_time, avg_pd_group_time, avg_pd_merge_time]\n",
    "cudf_times = [avg_cudf_load_time, avg_cudf_filter_time, avg_cudf_group_time, avg_cudf_merge_time]\n",
    "fig, axs = plt.subplots(2, 2, figsize=(12, 10))\n",
    "fig.suptitle(\"Performance Comparison: pandas vs. cuDF\", fontsize=16)\n",
    "\n",
    "for i, operation in enumerate(operations):\n",
    "    ax = axs[i // 2, i % 2]\n",
    "    x = ['pandas', 'cuDF']\n",
    "    y = [pandas_times[i], cudf_times[i]]\n",
    "    \n",
    "    ax.bar(x, y, color=['blue', 'orange'], alpha=0.7)\n",
    "    ax.set_title(operation)\n",
    "    ax.set_ylabel(\"Time (seconds)\")\n",
    "    \n",
    "    for j, v in enumerate(y):\n",
    "        ax.text(j, v, f'{v:.4f}', ha='center', va='bottom')\n",
    "\n",
    "plt.tight_layout()\n",
    "plt.savefig('foo.png')\n",
    "plt.show()\n"
   ]
  },
  {
   "cell_type": "code",
   "execution_count": 2,
   "id": "2a405767-4fcd-480d-acdb-48ee392b48f0",
   "metadata": {},
   "outputs": [
    {
     "ename": "ModuleNotFoundError",
     "evalue": "No module named 'cudf'",
     "output_type": "error",
     "traceback": [
      "\u001b[0;31m---------------------------------------------------------------------------\u001b[0m",
      "\u001b[0;31mModuleNotFoundError\u001b[0m                       Traceback (most recent call last)",
      "Cell \u001b[0;32mIn[2], line 5\u001b[0m\n\u001b[1;32m      3\u001b[0m \u001b[38;5;28;01mimport\u001b[39;00m \u001b[38;5;21;01mthreading\u001b[39;00m\n\u001b[1;32m      4\u001b[0m \u001b[38;5;28;01mimport\u001b[39;00m \u001b[38;5;21;01mmatplotlib\u001b[39;00m\u001b[38;5;21;01m.\u001b[39;00m\u001b[38;5;21;01mpyplot\u001b[39;00m \u001b[38;5;28;01mas\u001b[39;00m \u001b[38;5;21;01mplt\u001b[39;00m\n\u001b[0;32m----> 5\u001b[0m \u001b[38;5;28;01mimport\u001b[39;00m \u001b[38;5;21;01mcudf\u001b[39;00m\n\u001b[1;32m      6\u001b[0m \u001b[38;5;28;01mfrom\u001b[39;00m \u001b[38;5;21;01mpynvml\u001b[39;00m \u001b[38;5;28;01mimport\u001b[39;00m \u001b[38;5;241m*\u001b[39m\n\u001b[1;32m      8\u001b[0m \u001b[38;5;28;01mclass\u001b[39;00m \u001b[38;5;21;01mGPUMemoryMonitor\u001b[39;00m:\n",
      "\u001b[0;31mModuleNotFoundError\u001b[0m: No module named 'cudf'"
     ]
    }
   ],
   "source": [
    "import subprocess\n",
    "import time\n",
    "import threading\n",
    "import matplotlib.pyplot as plt\n",
    "import cudf\n",
    "from pynvml import *\n",
    "\n",
    "class GPUMemoryMonitor:\n",
    "    def __init__(self, interval=0.1):\n",
    "        self.interval = interval\n",
    "        self.timestamps = []\n",
    "        self.memory_usage = []\n",
    "        self.gpu_utilization = []\n",
    "        self.running = False\n",
    "        self.thread = None\n",
    "        self.start_time = None\n",
    "\n",
    "    def _monitor(self):\n",
    "        self.start_time = time.time()\n",
    "        nvmlInit()\n",
    "        handle = nvmlDeviceGetHandleByIndex(0)  # Assuming one GPU; adjust for multi-GPU\n",
    "        while self.running:\n",
    "            try:\n",
    "                # Get GPU memory usage\n",
    "                mem_info = nvmlDeviceGetMemoryInfo(handle)\n",
    "                memory_used = mem_info.used / (1024**2)  # Convert to MB\n",
    "\n",
    "                # Get GPU utilization\n",
    "                utilization = nvmlDeviceGetUtilizationRates(handle).gpu\n",
    "            except Exception as e:\n",
    "                memory_used = 0\n",
    "                utilization = 0\n",
    "            elapsed = time.time() - self.start_time\n",
    "            self.timestamps.append(elapsed)\n",
    "            self.memory_usage.append(memory_used)\n",
    "            self.gpu_utilization.append(utilization)\n",
    "            time.sleep(self.interval)\n",
    "\n",
    "    def start(self):\n",
    "        self.running = True\n",
    "        self.thread = threading.Thread(target=self._monitor)\n",
    "        self.thread.start()\n",
    "\n",
    "    def stop(self):\n",
    "        self.running = False\n",
    "        if self.thread:\n",
    "            self.thread.join()\n",
    "\n",
    "monitor = GPUMemoryMonitor(interval=0.1)\n",
    "monitor.start()\n",
    "\n",
    "while monitor.start_time is None:\n",
    "    time.sleep(0.001)\n",
    "\n",
    "path = \"/home/suhani/Downloads/archive/yellow_tripdata_2016-03.csv\"\n",
    "\n",
    "operation_points = []\n",
    "def log_operation(name):\n",
    "    op_time = time.time() - monitor.start_time\n",
    "    operation_points.append((op_time, name))\n",
    "\n",
    "log_operation(\"Start read_csv\")\n",
    "start_read = time.time()\n",
    "df_cudf = cudf.read_csv(path)\n",
    "end_read = time.time()\n",
    "log_operation(\"End read_csv\")\n",
    "\n",
    "log_operation(\"Start filter\")\n",
    "start_filter = time.time()\n",
    "filtered_cudf = df_cudf[df_cudf['passenger_count'] > 2]\n",
    "end_filter = time.time()\n",
    "log_operation(\"End filter\")\n",
    "\n",
    "log_operation(\"Start groupby\")\n",
    "start_groupby = time.time()\n",
    "grouped_cudf = filtered_cudf.groupby('passenger_count')['fare_amount'].mean()\n",
    "end_groupby = time.time()\n",
    "log_operation(\"End groupby\")\n",
    "\n",
    "monitor.stop()\n",
    "\n",
    "plt.figure(figsize=(12, 6))\n",
    "plt.plot(monitor.timestamps, monitor.memory_usage, label='GPU Memory Usage (MB)')\n",
    "plt.plot(monitor.timestamps, monitor.gpu_utilization, label='GPU Utilization (%)')  # Plot utilization\n",
    "plt.xlabel('Time (seconds)')\n",
    "plt.ylabel('MBs')\n",
    "plt.title('GPU Memory Usage and Utilization During cuDF Operations')\n",
    "\n",
    "op_times = [op_time for op_time, _ in operation_points]\n",
    "op_names = [op_name for _, op_name in operation_points]\n",
    "plt.xticks(op_times, op_names, rotation=45, ha='right')\n",
    "plt.subplots_adjust(bottom=0.2)\n",
    "\n",
    "plt.tight_layout()\n",
    "plt.grid(True)\n",
    "plt.show()\n"
   ]
  },
  {
   "cell_type": "code",
   "execution_count": null,
   "id": "d1dd669f",
   "metadata": {},
   "outputs": [],
   "source": []
  }
 ],
 "metadata": {
  "kernelspec": {
   "display_name": "Python 3 (ipykernel)",
   "language": "python",
   "name": "python3"
  },
  "language_info": {
   "codemirror_mode": {
    "name": "ipython",
    "version": 3
   },
   "file_extension": ".py",
   "mimetype": "text/x-python",
   "name": "python",
   "nbconvert_exporter": "python",
   "pygments_lexer": "ipython3",
   "version": "3.12.3"
  }
 },
 "nbformat": 4,
 "nbformat_minor": 5
}
